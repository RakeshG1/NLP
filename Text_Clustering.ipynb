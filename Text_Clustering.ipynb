{
 "cells": [
  {
   "cell_type": "markdown",
   "metadata": {},
   "source": [
    "### Why we choosen Cosθ to find similarity between vectors?\n",
    "* Because if two vectors are nearer then cosθ angle is lesser and the cosθ value is nearer ⩰ 1. \n",
    "* Above quality serves our requirement i.e., two text vectors are nearer in values(similar text values) then their cosθ value will be nearer to 1 and cosθ angle will be lesser."
   ]
  },
  {
   "cell_type": "code",
   "execution_count": 219,
   "metadata": {},
   "outputs": [
    {
     "name": "stdout",
     "output_type": "stream",
     "text": [
      "Similarity/distance between (-2,2) & (2,2) vectors\n",
      "--------------------------------------------------\n",
      "Cosθ = 0.0\n",
      "θ = 90.0 °\n",
      "\n",
      "Similarity/distance between (0,3) & (2,2) vectors\n",
      "--------------------------------------------------\n",
      "Cosθ = 0.71\n",
      "θ = 45.0 °\n",
      "\n",
      "Similarity/distance between (1,3) & (2,2) vectors\n",
      "--------------------------------------------------\n",
      "Cosθ = 0.89\n",
      "θ = 26.57 °\n",
      "\n",
      "Similarity/distance between (2,3) & (2,2) vectors\n",
      "--------------------------------------------------\n",
      "Cosθ = 0.98\n",
      "θ = 11.31 °\n",
      "\n",
      "Similarity/distance between (2,2) & (2,2) vectors\n",
      "--------------------------------------------------\n",
      "Cosθ = 1.0\n",
      "θ = 0.0 °\n",
      "\n",
      "Similarity/distance between (2,1) & (2,2) vectors\n",
      "--------------------------------------------------\n",
      "Cosθ = 0.95\n",
      "θ = 18.43 °\n",
      "\n",
      "Similarity/distance between (2,0) & (2,2) vectors\n",
      "--------------------------------------------------\n",
      "Cosθ = 0.71\n",
      "θ = 45.0 °\n",
      "\n"
     ]
    }
   ],
   "source": [
    "import math\n",
    "def angle_of_vectors(a,b,c,d):\n",
    "    dotProduct = a*c + b*d\n",
    "    # for three dimensional simply add dotProduct = a*c + b*d  + e*f \n",
    "    modOfVector1 = math.sqrt( a*a + b*b)*math.sqrt(c*c + d*d) \n",
    "    # for three dimensional simply add modOfVector = math.sqrt( a*a + b*b + e*e)*math.sqrt(c*c + d*d +f*f) \n",
    "    angle = dotProduct/modOfVector1\n",
    "    print(\"Similarity/distance between ({},{}) & ({},{}) vectors\".format(a,b,c,d))\n",
    "    print(\"--\"*25)\n",
    "    print(\"Cosθ =\",round(angle,2))\n",
    "    angleInDegree = math.degrees(math.acos(angle))\n",
    "    print(\"θ =\",round(angleInDegree,2),\"°\\n\")\n",
    "     \n",
    "angle_of_vectors(-2,2,2,2) #Similarity/distance between (-2,2) & (2,2)\n",
    "angle_of_vectors(0,3,2,2) #Similarity/distance between (0,3) & (2,2)\n",
    "angle_of_vectors(1,3,2,2) #Similarity/distance between (1,3) & (2,2)\n",
    "angle_of_vectors(2,3,2,2) #Similarity/distance between (2,3) & (2,2)\n",
    "angle_of_vectors(2,2,2,2) #Similarity/distance between (2,2) & (2,2)\n",
    "angle_of_vectors(2,1,2,2) #Similarity/distance between (2,1) & (2,2)\n",
    "angle_of_vectors(2,0,2,2) #Similarity/distance between (2,0) & (2,2)"
   ]
  },
  {
   "cell_type": "markdown",
   "metadata": {},
   "source": [
    "#### Key Note:\n",
    "* From above vectors (1,3) is the 1st nearest vector to (2,2) and followed by vector (2,1)."
   ]
  },
  {
   "cell_type": "markdown",
   "metadata": {},
   "source": [
    "&nbsp;"
   ]
  },
  {
   "cell_type": "markdown",
   "metadata": {},
   "source": [
    "### Visualizing Above Vectors"
   ]
  },
  {
   "cell_type": "code",
   "execution_count": 122,
   "metadata": {},
   "outputs": [
    {
     "data": {
      "image/png": "[encoded data removed]",
      "text/plain": [
       "<Figure size 360x288 with 1 Axes>"
      ]
     },
     "metadata": {},
     "output_type": "display_data"
    }
   ],
   "source": [
    "import matplotlib.pyplot as plt\n",
    "\n",
    "plt.style.use('fivethirtyeight') \n",
    "fig,axes = plt.subplots(nrows=1,ncols=1,figsize=(5,4))\n",
    "axes.arrow(0, 0, -2, 2, head_width=0.5, head_length=0.4, fc='yellow', ec='black')\n",
    "axes.text(-2, 2.5, '(-2,2)',fontsize=11)\n",
    "axes.arrow(0, 0, 0, 3, head_width=0.5, head_length=0.4, fc='yellow', ec='black')\n",
    "axes.text(0, 3.6, '(0,3)',fontsize=11)\n",
    "axes.arrow(0, 0, 1, 3, head_width=0.5, head_length=0.5, fc='yellow', ec='black')\n",
    "axes.text(1, 3.6, '(1,3)',fontsize=11)\n",
    "axes.arrow(0, 0, 2, 3, head_width=0.5, head_length=0.5, fc='yellow', ec='black')\n",
    "axes.text(2.5, 3, '(2,3)',fontsize=11)\n",
    "axes.arrow(0, 0, 2, 1, head_width=0.5, head_length=0.5, fc='yellow', ec='black')\n",
    "axes.text(2.5, 1, '(2,1)',fontsize=11)\n",
    "axes.arrow(0, 0, 2, 0, head_width=0.5, head_length=0.5, fc='yellow', ec='black')\n",
    "axes.text(2.5, 0, '(2,0)',fontsize=11)\n",
    "axes.arrow(0, 0, 2, 2, head_width=0.5, head_length=0.5, fc='green', ec='black')\n",
    "axes.text(2.5, 2, '(2,2)',fontsize=11)\n",
    "\n",
    "plt.xlim(-5, 5)\n",
    "plt.ylim(-5, 5)\n",
    "plt.tight_layout()\n",
    "plt.show()"
   ]
  },
  {
   "cell_type": "markdown",
   "metadata": {},
   "source": [
    "&nbsp;"
   ]
  },
  {
   "cell_type": "markdown",
   "metadata": {},
   "source": [
    "&nbsp;"
   ]
  },
  {
   "cell_type": "markdown",
   "metadata": {},
   "source": [
    "### Cosine Similarity <span style='background:yellow'>Using Libraries<span>"
   ]
  },
  {
   "cell_type": "markdown",
   "metadata": {},
   "source": [
    "#### Importing Libraries"
   ]
  },
  {
   "cell_type": "code",
   "execution_count": 159,
   "metadata": {},
   "outputs": [],
   "source": [
    "import pandas as pd\n",
    "import numpy as np\n",
    "import os\n",
    "import copy\n",
    "import sys\n",
    "from sklearn.feature_extraction.text import CountVectorizer\n",
    "from sklearn.metrics.pairwise import cosine_similarity"
   ]
  },
  {
   "cell_type": "markdown",
   "metadata": {},
   "source": [
    "&nbsp;"
   ]
  },
  {
   "cell_type": "markdown",
   "metadata": {},
   "source": [
    "#### Sample Text Data"
   ]
  },
  {
   "cell_type": "code",
   "execution_count": 160,
   "metadata": {},
   "outputs": [
    {
     "data": {
      "text/html": [
       "<div>\n",
       "<style scoped>\n",
       "    .dataframe tbody tr th:only-of-type {\n",
       "        vertical-align: middle;\n",
       "    }\n",
       "\n",
       "    .dataframe tbody tr th {\n",
       "        vertical-align: top;\n",
       "    }\n",
       "\n",
       "    .dataframe thead th {\n",
       "        text-align: right;\n",
       "    }\n",
       "</style>\n",
       "<table border=\"1\" class=\"dataframe\">\n",
       "  <thead>\n",
       "    <tr style=\"text-align: right;\">\n",
       "      <th></th>\n",
       "      <th>Date</th>\n",
       "      <th>Module</th>\n",
       "      <th>Priority</th>\n",
       "    </tr>\n",
       "  </thead>\n",
       "  <tbody>\n",
       "    <tr>\n",
       "      <td>0</td>\n",
       "      <td>apr_30</td>\n",
       "      <td>datacenter</td>\n",
       "      <td>high</td>\n",
       "    </tr>\n",
       "    <tr>\n",
       "      <td>1</td>\n",
       "      <td>apr_28</td>\n",
       "      <td>access</td>\n",
       "      <td>medium</td>\n",
       "    </tr>\n",
       "    <tr>\n",
       "      <td>2</td>\n",
       "      <td>apr_30</td>\n",
       "      <td>datacenter</td>\n",
       "      <td>medium</td>\n",
       "    </tr>\n",
       "    <tr>\n",
       "      <td>3</td>\n",
       "      <td>apr_28</td>\n",
       "      <td>access</td>\n",
       "      <td>high</td>\n",
       "    </tr>\n",
       "  </tbody>\n",
       "</table>\n",
       "</div>"
      ],
      "text/plain": [
       "     Date      Module Priority\n",
       "0  apr_30  datacenter     high\n",
       "1  apr_28      access   medium\n",
       "2  apr_30  datacenter   medium\n",
       "3  apr_28      access     high"
      ]
     },
     "execution_count": 160,
     "metadata": {},
     "output_type": "execute_result"
    }
   ],
   "source": [
    "sample_data = pd.DataFrame({'Date':['apr_30','apr_28','apr_30','apr_28'],\n",
    "               'Module':['datacenter','access','datacenter','access'],\n",
    "               'Priority':['high','medium','medium','high'] })\n",
    "sample_data"
   ]
  },
  {
   "cell_type": "markdown",
   "metadata": {},
   "source": [
    "&nbsp;"
   ]
  },
  {
   "cell_type": "markdown",
   "metadata": {},
   "source": [
    "#### Converting Text into Numeric Vectors"
   ]
  },
  {
   "cell_type": "code",
   "execution_count": 162,
   "metadata": {},
   "outputs": [
    {
     "name": "stdout",
     "output_type": "stream",
     "text": [
      "Corpus :  [\"['apr_30' 'datacenter' 'high']\", \"['apr_28' 'access' 'medium']\", \"['apr_30' 'datacenter' 'medium']\", \"['apr_28' 'access' 'high']\"] \n",
      "\n",
      "Text corpus converted into numeric vectors according to each row/document/sentence :\n",
      "------------------------------------------------------------------------------------\n",
      "  (0, 2)\t1\n",
      "  (0, 3)\t1\n",
      "  (0, 4)\t1\n",
      "  (1, 1)\t1\n",
      "  (1, 0)\t1\n",
      "  (1, 5)\t1\n",
      "  (2, 2)\t1\n",
      "  (2, 3)\t1\n",
      "  (2, 5)\t1\n",
      "  (3, 4)\t1\n",
      "  (3, 1)\t1\n",
      "  (3, 0)\t1\n"
     ]
    }
   ],
   "source": [
    "documents = [str(text) for text in sample_data.values]\n",
    "print('Corpus : ',documents,'\\n')\n",
    "\n",
    "#Initialize the count vectorier with English Stop Words\n",
    "count_vectorizer = CountVectorizer(stop_words='english')\n",
    "\n",
    "#Fit and transform the processed titles\n",
    "count_data = count_vectorizer.fit_transform(documents)\n",
    "print('Text corpus converted into numeric vectors according to each row/document/sentence :')\n",
    "print('--'*42)\n",
    "print(count_data)"
   ]
  },
  {
   "cell_type": "code",
   "execution_count": 220,
   "metadata": {},
   "outputs": [
    {
     "name": "stdout",
     "output_type": "stream",
     "text": [
      "Analyzing Count vectors as per documents values :\n",
      "--------------------------------------------------\n",
      "['access', 'apr_28', 'apr_30', 'datacenter', 'high', 'medium']\n",
      "[0 0 1 1 1 0]\n",
      "[1 1 0 0 0 1]\n",
      "[0 0 1 1 0 1]\n",
      "[1 1 0 0 1 0]\n"
     ]
    }
   ],
   "source": [
    "print('Analyzing Count vectors as per documents values :')\n",
    "print('--'*25)\n",
    "print(count_vectorizer.get_feature_names())\n",
    "for t in count_data:\n",
    "    print(t.toarray()[0])"
   ]
  },
  {
   "cell_type": "markdown",
   "metadata": {},
   "source": [
    "&nbsp;"
   ]
  },
  {
   "cell_type": "markdown",
   "metadata": {},
   "source": [
    "#### Cosine Similarity on given documents "
   ]
  },
  {
   "cell_type": "code",
   "execution_count": 222,
   "metadata": {},
   "outputs": [
    {
     "name": "stdout",
     "output_type": "stream",
     "text": [
      "[[1.         0.         0.66666667 0.33333333]\n",
      " [0.         1.         0.33333333 0.66666667]\n",
      " [0.66666667 0.33333333 1.         0.        ]\n",
      " [0.33333333 0.66666667 0.         1.        ]]\n"
     ]
    }
   ],
   "source": [
    "#Compute Cosine Similarity Matrix\n",
    "cos_sim = cosine_similarity(count_data, count_data)\n",
    "print(cos_sim)"
   ]
  },
  {
   "cell_type": "markdown",
   "metadata": {},
   "source": [
    "#### Key Note:\n",
    "* As per cosine similarity values, we can see 1st document is similar to the 3rd document with value : 0.6666\n",
    "* Similarly 2nd document is similar to the 4th document with value : 0.6666\n",
    "* Actually Cosine Similarity values shown correctly, becuase 1st,3rd documets has similar texts &  2nd,4th documents has similar text values."
   ]
  },
  {
   "cell_type": "markdown",
   "metadata": {},
   "source": [
    "&nbsp;"
   ]
  },
  {
   "cell_type": "markdown",
   "metadata": {},
   "source": [
    "### Cosine Similarity <span style='background:yellow'>Manual Calculation<span>"
   ]
  },
  {
   "cell_type": "code",
   "execution_count": 214,
   "metadata": {},
   "outputs": [
    {
     "name": "stdout",
     "output_type": "stream",
     "text": [
      "['access', 'apr_28', 'apr_30', 'datacenter', 'high', 'medium']\n",
      "[0 0 1 1 1 0]\n",
      "[1 1 0 0 0 1]\n",
      "[0 0 1 1 0 1]\n",
      "[1 1 0 0 1 0]\n"
     ]
    }
   ],
   "source": [
    "print(count_vectorizer.get_feature_names())\n",
    "for t in count_data:\n",
    "    print(t.toarray()[0])\n",
    "# count_data_array = count_data.toarray()\n",
    "# print(count_data_array,'\\n')\n",
    "# count_data_list = count_data_array.tolist()\n",
    "# print(count_data_list,'\\n')"
   ]
  },
  {
   "cell_type": "code",
   "execution_count": 218,
   "metadata": {},
   "outputs": [
    {
     "name": "stdout",
     "output_type": "stream",
     "text": [
      "Similarity/distance between 1st doc(0,0,1,1,1,0) & 3rd doc(0,0,1,1,0,1) vectors\n",
      "--------------------------------------------------------------------------------\n",
      "Cosθ = 0.667\n",
      "θ = 48.19 °\n",
      "\n"
     ]
    }
   ],
   "source": [
    "def angle_of_vectors(a1,b1,c1,d1,e1,f1,a2,b2,c2,d2,e2,f2):\n",
    "    dotProduct = a1*a2 + b1*b2 + c1*c2 + d1*d2 + e1*e2 + f1*f2\n",
    "    # for three dimensional simply add dotProduct = a*c + b*d  + e*f \n",
    "    modOfVector1 = math.sqrt( a1*a1 + b1*b1 + c1*c1 + d1*d1 + e1*e1 + f1*f1)*math.sqrt(a2*a2 + b2*b2 + c2*c2 + d2*d2 + e2*e2 + f2*f2) \n",
    "    # for three dimensional simply add modOfVector = math.sqrt( a*a + b*b + e*e)*math.sqrt(c*c + d*d +f*f) \n",
    "    angle = dotProduct/modOfVector1\n",
    "    print(\"Similarity/distance between 1st doc({},{},{},{},{},{}) & 3rd doc({},{},{},{},{},{}) vectors\".format(a1,b1,c1,d1,e1,f1,a2,b2,c2,d2,e2,f2))\n",
    "    print(\"--\"*40)\n",
    "    print(\"Cosθ =\",round(angle,3))\n",
    "    angleInDegree = math.degrees(math.acos(angle))\n",
    "    print(\"θ =\",round(angleInDegree,2),\"°\\n\")\n",
    "     \n",
    "angle_of_vectors(0,0,1,1,1,0,0,0,1,1,0,1) #Similarity/distance between 1st doc(0,0,1,1,1,0) & 3rd doc(0,0,1,1,0,1) vectors\n"
   ]
  },
  {
   "cell_type": "markdown",
   "metadata": {},
   "source": [
    "### Key Note:\n",
    "* As Count Vectorizer created 6 dimension matrix of text document values.\n",
    "* We have checked 1st document 6 dimension vector with 3rd document 6 dimension vector for similarity.\n",
    "* We got same similarity value like sklearn.cosine similarity library(i.e., 0.667)\n",
    "* Hence both 1st and 3rd documents are similar in given data."
   ]
  }
 ],
 "metadata": {
  "kernelspec": {
   "display_name": "Python 3",
   "language": "python",
   "name": "python3"
  },
  "language_info": {
   "codemirror_mode": {
    "name": "ipython",
    "version": 3
   },
   "file_extension": ".py",
   "mimetype": "text/x-python",
   "name": "python",
   "nbconvert_exporter": "python",
   "pygments_lexer": "ipython3",
   "version": "3.7.4"
  }
 },
 "nbformat": 4,
 "nbformat_minor": 4
}
